{
 "cells": [
  {
   "cell_type": "markdown",
   "id": "0e58d025",
   "metadata": {},
   "source": [
    "## Automating basic file cleaning steps\n",
    "\n",
    "### Process to clean dataset \n",
    "1. Remove formula from the dataset. \n",
    "2. Unmerge the merged cells and repeat the cell value in row and column headers (if required) not in data matrix. \n",
    "3. Keep heading/variable name in the first row. \n",
    "4. Replace blank cells with NA. \n",
    "5. Remove special characters from Data points of data matrix to make it machine readable and need to write a note \n",
    "(combination of row and column variable name) for removed special character in metadata note. \n",
    "6. For each special character removed from any cell in data matrix, give proper referencing to that cell by mentioning \n",
    "the row and column (e.g. mentioning the row name as well as variable name/column header) in the metadata file. This \n",
    "will help in identifying the notes written for each of the special characters removed with the particular cells during later \n",
    "checking or reviewing of the dataset. \n",
    "7. Save as CSV file. \n",
    "8. There should be no space or special character in file name (except “_\", “-\", “.\"). \n",
    "9. File Name, Dataset Title and Dataset Note should come in metadata file. \n",
    "10. Split sheets (in workbook) as a separate file with sheet names. \n",
    "Other Things to take care \n",
    "1. Change format of Data in Data Matrix to Number (remove “ , “ comma from numbers, if any). \n",
    "2. Select and delete all blank rows and columns other than the Data Matrix rows and columns.\n",
    "3. Check Row/column Header for split line (alt+enter which creates space and show “ “ in notepad) by seeing in the \n",
    "formula bar in expanded state. Entire row or column header should be shown as a running line in the formula bar \n",
    "without showing a new line. \n",
    "4. While replacing blank cells with NA, select only the data matrix. \n",
    "5. Remove “ , “ comma or if required Replace “ , “ comma with “ ; “ semi-colon. \n",
    "6. Variable Name should not be duplicate i.e. each variable name (column header) should be unique. \n",
    "7. While concatenating; use the “ – “ (space hyphen space) format to concatenate between text strings. \n",
    "8. Time Period of Dataset: \n",
    "\n",
    "a. Please mention the year of the dataset at the end of the title of the dataset (say for dataset named XYZ) e.g.XYZ - 2015 ( - YYYY) in case of Calendar Year or XYZ - 2015-16 ( - YYYY-YY) in case of Financial Year. It will make dataset unique and avoid the conflict of dataset name when the same dataset for next year or time period is \n",
    "added in data.gov.in. If the dataset mentions a date e.g. 31st December or 31st March, mention it in the Note of \n",
    "the dataset. \n",
    "\n",
    "b. If the dataset covers a period of time say 2001 to 2015 or 2000-01 to 2014-15, mention time period at the end \n",
    "of the title of the dataset e.g. XYZ from 2001 to 2015 (from YYYY to YYYY) in case of Calendar Years or XYZ from \n",
    "2000-01 to 2014-15 (from YYYY-YY to YYYY-YY) in case of Financial Years.\n",
    "\n",
    "c. If the dataset is for/upto a specific or particular date say 20th October 2015 or 11th February 2016, mention the \n",
    "date directly at the end of the title of the dataset e.g. XYZ as on 30-10-2015 (as on DD-MM-YYYY) or XYZ as on \n",
    "11-02-2016. \n",
    "\n",
    "d. If the dataset covers a period of time say 2001 to 2015 or 2000-01 to 2014-15, but data for a particular year \n",
    "during this entire period belongs to another date different from the usual date say 31st December in case of \n",
    "Calendar Years or 31st March in case of Financial Years; mention the specific date in case of that particular year \n",
    "in the Note e.g. figures for the year 2015 are as on 30-11-2015 or figures for the year 2015-16 are as on 15-02-2016. Or 2016. Or within bracket with the year in the dataset itself. \n",
    "9. Please check the regular expression by opening the file in notepad++ (can be downloaded from net) [^A-Za-z0-9, \"'./?\\\\;:&_ \\r\\n\\t()@$#*^%+=<>\\[\\]!-] \n",
    "\n",
    "\n",
    "### Special Note\n",
    "\n",
    "1.After preparing the dataset as per above guidelines, Please go through the dataset once again and compare with the \n",
    "original file for reviewing any deficiencies left and correct as required for enhanced accuracy. \n",
    "\n",
    "2. If you are facing any problem/ ambiguity in following the above mentioned guidelines, Please discuss."
   ]
  },
  {
   "cell_type": "code",
   "execution_count": 1,
   "id": "afb466a0",
   "metadata": {},
   "outputs": [],
   "source": [
    "import numpy as np\n",
    "import pandas as pd"
   ]
  },
  {
   "cell_type": "markdown",
   "id": "9966bfda",
   "metadata": {},
   "source": [
    "1. Remove formula from the dataset"
   ]
  },
  {
   "cell_type": "code",
   "execution_count": 2,
   "id": "9663be3f",
   "metadata": {},
   "outputs": [],
   "source": [
    "df = pd.read_csv(\"autotest.csv\")"
   ]
  },
  {
   "cell_type": "code",
   "execution_count": 3,
   "id": "0a7bd44d",
   "metadata": {},
   "outputs": [
    {
     "data": {
      "text/html": [
       "<div>\n",
       "<style scoped>\n",
       "    .dataframe tbody tr th:only-of-type {\n",
       "        vertical-align: middle;\n",
       "    }\n",
       "\n",
       "    .dataframe tbody tr th {\n",
       "        vertical-align: top;\n",
       "    }\n",
       "\n",
       "    .dataframe thead th {\n",
       "        text-align: right;\n",
       "    }\n",
       "</style>\n",
       "<table border=\"1\" class=\"dataframe\">\n",
       "  <thead>\n",
       "    <tr style=\"text-align: right;\">\n",
       "      <th></th>\n",
       "      <th>a</th>\n",
       "      <th>b</th>\n",
       "      <th>c</th>\n",
       "      <th>d</th>\n",
       "    </tr>\n",
       "  </thead>\n",
       "  <tbody>\n",
       "    <tr>\n",
       "      <th>0</th>\n",
       "      <td>1</td>\n",
       "      <td>3</td>\n",
       "      <td>2</td>\n",
       "      <td>4</td>\n",
       "    </tr>\n",
       "    <tr>\n",
       "      <th>1</th>\n",
       "      <td>2</td>\n",
       "      <td>4</td>\n",
       "      <td>3</td>\n",
       "      <td>6</td>\n",
       "    </tr>\n",
       "    <tr>\n",
       "      <th>2</th>\n",
       "      <td>3</td>\n",
       "      <td>5</td>\n",
       "      <td>55</td>\n",
       "      <td>8</td>\n",
       "    </tr>\n",
       "    <tr>\n",
       "      <th>3</th>\n",
       "      <td>3</td>\n",
       "      <td>6</td>\n",
       "      <td>5</td>\n",
       "      <td>9</td>\n",
       "    </tr>\n",
       "    <tr>\n",
       "      <th>4</th>\n",
       "      <td>4</td>\n",
       "      <td>3</td>\n",
       "      <td>5</td>\n",
       "      <td>7</td>\n",
       "    </tr>\n",
       "  </tbody>\n",
       "</table>\n",
       "</div>"
      ],
      "text/plain": [
       "   a  b   c  d\n",
       "0  1  3   2  4\n",
       "1  2  4   3  6\n",
       "2  3  5  55  8\n",
       "3  3  6   5  9\n",
       "4  4  3   5  7"
      ]
     },
     "execution_count": 3,
     "metadata": {},
     "output_type": "execute_result"
    }
   ],
   "source": [
    "df.head()"
   ]
  },
  {
   "cell_type": "code",
   "execution_count": 4,
   "id": "cdeaa2d0",
   "metadata": {},
   "outputs": [
    {
     "name": "stdout",
     "output_type": "stream",
     "text": [
      "0    4\n",
      "1    6\n",
      "2    8\n",
      "Name: d, dtype: int64\n"
     ]
    }
   ],
   "source": [
    "print(df.d[:3])"
   ]
  },
  {
   "cell_type": "code",
   "execution_count": null,
   "id": "355cad5c",
   "metadata": {},
   "outputs": [],
   "source": []
  },
  {
   "cell_type": "code",
   "execution_count": null,
   "id": "491a332c",
   "metadata": {},
   "outputs": [],
   "source": []
  },
  {
   "cell_type": "markdown",
   "id": "f8541a71",
   "metadata": {},
   "source": [
    "2. Unmerge the merged cells and repeat the cell value in row and column headers (if required) not in data matrix."
   ]
  },
  {
   "cell_type": "code",
   "execution_count": null,
   "id": "c0fd8198",
   "metadata": {},
   "outputs": [],
   "source": []
  },
  {
   "cell_type": "code",
   "execution_count": null,
   "id": "d115531e",
   "metadata": {},
   "outputs": [],
   "source": []
  },
  {
   "cell_type": "code",
   "execution_count": null,
   "id": "78bc7782",
   "metadata": {},
   "outputs": [],
   "source": []
  }
 ],
 "metadata": {
  "kernelspec": {
   "display_name": "Python 3 (ipykernel)",
   "language": "python",
   "name": "python3"
  },
  "language_info": {
   "codemirror_mode": {
    "name": "ipython",
    "version": 3
   },
   "file_extension": ".py",
   "mimetype": "text/x-python",
   "name": "python",
   "nbconvert_exporter": "python",
   "pygments_lexer": "ipython3",
   "version": "3.9.7"
  }
 },
 "nbformat": 4,
 "nbformat_minor": 5
}
