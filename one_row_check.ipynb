{
 "cells": [
  {
   "cell_type": "markdown",
   "id": "14998dbb",
   "metadata": {},
   "source": [
    "A folder contains multiple CSV files. These files have any number of rows. \n",
    "\n",
    "Below mention scripts copies files having <=1 number of rows in a new folder."
   ]
  },
  {
   "cell_type": "code",
   "execution_count": 1,
   "id": "9581ffcd",
   "metadata": {},
   "outputs": [],
   "source": [
    "# import OS module\n",
    "import os\n",
    "import pandas as pd\n",
    "import shutil"
   ]
  },
  {
   "cell_type": "code",
   "execution_count": 2,
   "id": "6ce76e45",
   "metadata": {},
   "outputs": [],
   "source": [
    "# This is my path\n",
    "path=\"F://List_file_name\""
   ]
  },
  {
   "cell_type": "code",
   "execution_count": 5,
   "id": "18d09380",
   "metadata": {},
   "outputs": [],
   "source": [
    "for (root, dirs, file) in os.walk(path):\n",
    "    for f in file:\n",
    "        if '.csv' in f:\n",
    "            df = pd.read_csv(f)\n",
    "            if df.shape[0] <= 1:\n",
    "                shutil.copy(f, 'one_row')"
   ]
  },
  {
   "cell_type": "code",
   "execution_count": null,
   "id": "cdd0b61b",
   "metadata": {},
   "outputs": [],
   "source": []
  }
 ],
 "metadata": {
  "kernelspec": {
   "display_name": "Python 3 (ipykernel)",
   "language": "python",
   "name": "python3"
  },
  "language_info": {
   "codemirror_mode": {
    "name": "ipython",
    "version": 3
   },
   "file_extension": ".py",
   "mimetype": "text/x-python",
   "name": "python",
   "nbconvert_exporter": "python",
   "pygments_lexer": "ipython3",
   "version": "3.9.7"
  }
 },
 "nbformat": 4,
 "nbformat_minor": 5
}
