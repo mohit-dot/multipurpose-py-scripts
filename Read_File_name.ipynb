{
 "cells": [
  {
   "cell_type": "markdown",
   "id": "79f317ba",
   "metadata": {},
   "source": [
    "Below mentioned script lists the names to excel of all the files present the folder"
   ]
  },
  {
   "cell_type": "code",
   "execution_count": 1,
   "id": "2d82945e",
   "metadata": {},
   "outputs": [],
   "source": [
    "# import OS module\n",
    "import os"
   ]
  },
  {
   "cell_type": "code",
   "execution_count": 2,
   "id": "c9e4f647",
   "metadata": {},
   "outputs": [],
   "source": [
    "# This is my path\n",
    "path=\"F://List_file_name\""
   ]
  },
  {
   "cell_type": "code",
   "execution_count": 3,
   "id": "5ae2aaea",
   "metadata": {},
   "outputs": [
    {
     "name": "stdout",
     "output_type": "stream",
     "text": [
      "testone.txt\n",
      "testtwo.txt\n",
      "['testone.txt', 'testtwo.txt']\n"
     ]
    }
   ],
   "source": [
    "# to store files in a list\n",
    "listone = []\n",
    " \n",
    "# dirs=directories\n",
    "for (root, dirs, file) in os.walk(path):\n",
    "    for f in file:\n",
    "        if '.txt' in f:\n",
    "            print(f)\n",
    "            listone.append(f)\n",
    "            \n",
    "            \n",
    "print(listone)"
   ]
  },
  {
   "cell_type": "code",
   "execution_count": 4,
   "id": "c833de6f",
   "metadata": {},
   "outputs": [],
   "source": [
    "import pandas as pd"
   ]
  },
  {
   "cell_type": "code",
   "execution_count": 6,
   "id": "4ce62b7d",
   "metadata": {},
   "outputs": [],
   "source": [
    "df = pd.DataFrame(listone)\n",
    "df.to_excel('pandas_to_excel.xlsx', sheet_name='new_sheet_name', index=0)"
   ]
  },
  {
   "cell_type": "code",
   "execution_count": null,
   "id": "fd9cd18b",
   "metadata": {},
   "outputs": [],
   "source": []
  }
 ],
 "metadata": {
  "kernelspec": {
   "display_name": "Python 3 (ipykernel)",
   "language": "python",
   "name": "python3"
  },
  "language_info": {
   "codemirror_mode": {
    "name": "ipython",
    "version": 3
   },
   "file_extension": ".py",
   "mimetype": "text/x-python",
   "name": "python",
   "nbconvert_exporter": "python",
   "pygments_lexer": "ipython3",
   "version": "3.9.7"
  }
 },
 "nbformat": 4,
 "nbformat_minor": 5
}
